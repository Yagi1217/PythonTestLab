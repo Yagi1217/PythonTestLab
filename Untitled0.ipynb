{
  "cells": [
    {
      "cell_type": "markdown",
      "metadata": {
        "id": "view-in-github",
        "colab_type": "text"
      },
      "source": [
        "<a href=\"https://colab.research.google.com/github/Yagi1217/PythonTestLab/blob/master/Untitled0.ipynb\" target=\"_parent\"><img src=\"https://colab.research.google.com/assets/colab-badge.svg\" alt=\"Open In Colab\"/></a>"
      ]
    },
    {
      "cell_type": "code",
      "execution_count": 18,
      "metadata": {
        "colab": {
          "base_uri": "https://localhost:8080/"
        },
        "id": "A_JN4Ly6BoNe",
        "outputId": "d8c2e886-967e-435d-e36b-4fe0587972b3"
      },
      "outputs": [
        {
          "output_type": "stream",
          "name": "stdout",
          "text": [
            "{\n",
            "  \"_meta\": {\n",
            "    \"hash\": {\n",
            "      \"sha256\": \"hash\"\n",
            "    },\n",
            "    \"pipfile-spec\": 6,\n",
            "    \"requires\": {\n",
            "      \"python_version\": \"3.6\"\n",
            "    },\n",
            "    \"sources\": [\n",
            "      {\n",
            "        \"name\": \"pypi\",\n",
            "        \"url\": \"https://pypi.python.org/simple\",\n",
            "        \"verify_ssl\": true\n",
            "      }\n",
            "    ]\n",
            "  }\n",
            "}\n"
          ]
        }
      ],
      "source": [
        "import json\n",
        "\n",
        "JSON_SAMPLE = '{\"_meta\": {\"hash\": {\"sha256\": \"hash\"}, \"pipfile-spec\": 6, \"requires\": {\"python_version\": \"3.6\"}, \"sources\": [{\"name\": \"pypi\", \"url\": \"https://pypi.python.org/simple\", \"verify_ssl\": true } ] } }'\n",
        "\n",
        "data = json.loads(JSON_SAMPLE)\n",
        "print(json.dumps(data, indent=2))\n"
      ]
    },
    {
      "cell_type": "code",
      "execution_count": 25,
      "metadata": {
        "colab": {
          "base_uri": "https://localhost:8080/"
        },
        "id": "N0HW1EAwENhw",
        "outputId": "e8f443fd-be0f-4e96-fed5-f7a77d2d164a"
      },
      "outputs": [
        {
          "output_type": "stream",
          "name": "stdout",
          "text": [
            "Catalyst_Catalyst\n",
            "ASR_ASR\n",
            "UCS_UCS\n"
          ]
        }
      ],
      "source": [
        "import json\n",
        "\n",
        "#JSON_SAMPLE = '{\"_meta\": {\"hash\": {\"sha256\": \"hash\"}, \"pipfile-spec\": 6, \"requires\": {\"python_version\": \"3.6\"}, \"sources\": [{\"name\": \"pypi\", \"url\": \"https://pypi.python.org/simple\", \"verify_ssl\": true } ] } }'\n",
        "JSON_SAMPLE = '{ \"001\": { \"name\": \"Catalyst\", \"type\": \"Switch\" }, \"002\": { \"name\": \"ASR\", \"type\": \"Router\" }, \"003\": { \"name\": \"UCS\", \"type\": \"Server\" }}'\n",
        "data = json.loads(JSON_SAMPLE)\n",
        "Sample = (json.dumps(data, indent=2))\n",
        "#print(Sample)\n",
        "for key in data.values():\n",
        "  print(key[\"name\"] + \"_\" + key[\"name\"])\n",
        "\n",
        "# with open(data) as f:\n",
        "#     j = json.load(f)\n",
        "\n",
        "# for key in j:\n",
        "#  print(key)"
      ]
    },
    {
      "cell_type": "code",
      "execution_count": null,
      "metadata": {
        "id": "jWemjupsCA1d"
      },
      "outputs": [],
      "source": [
        "import requests\n",
        "\n",
        "URL=https://hoge.com\n",
        "r=requests.get(URL)\n",
        "print(r.json())"
      ]
    }
  ],
  "metadata": {
    "colab": {
      "name": "Untitled0.ipynb",
      "toc_visible": true,
      "provenance": [],
      "authorship_tag": "ABX9TyMuJ0wX1Ys112WfP4lEPW6u",
      "include_colab_link": true
    },
    "kernelspec": {
      "display_name": "Python 3",
      "name": "python3"
    },
    "language_info": {
      "name": "python"
    }
  },
  "nbformat": 4,
  "nbformat_minor": 0
}